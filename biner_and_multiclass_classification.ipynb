{
  "cells": [
    {
      "cell_type": "code",
      "execution_count": null,
      "metadata": {
        "colab": {
          "base_uri": "https://localhost:8080/"
        },
        "id": "NW7SL1oxAbJ9",
        "outputId": "487b009e-0466-402d-d23a-b16d11279d8f"
      },
      "outputs": [],
      "source": [
        "!pip install optuna"
      ]
    },
    {
      "cell_type": "code",
      "execution_count": null,
      "metadata": {
        "id": "Tm4ctF6Ld7fA"
      },
      "outputs": [],
      "source": [
        "deps = [\n",
        "    \"pandas\",\n",
        "    \"numpy\",\n",
        "    \"lightgbm\",\n",
        "    \"optuna\",\n",
        "    \"scikit-learn\",\n",
        "    \"imblearn\",\n",
        "    \"joblib\",\n",
        "    \"matplotlib\"\n",
        "]\n",
        "\n",
        "import pkg_resources\n",
        "with open(\"/content/drive/MyDrive/Datathon 2025 (HidupJ0kow1)/requirements_2.txt\", \"w\") as f:\n",
        "    for pkg in deps:\n",
        "        try:\n",
        "            v = pkg_resources.get_distribution(pkg).version\n",
        "            f.write(f\"{pkg}=={v}\\n\")\n",
        "        except:\n",
        "            pass"
      ]
    },
    {
      "cell_type": "code",
      "execution_count": null,
      "metadata": {
        "id": "0OJ8KXMNrRlj"
      },
      "outputs": [],
      "source": [
        "import pandas as pd\n",
        "import numpy as np\n",
        "import lightgbm as lgb\n",
        "import optuna\n",
        "from sklearn.model_selection import train_test_split, KFold, StratifiedKFold\n",
        "from sklearn.metrics import f1_score, recall_score, roc_auc_score"
      ]
    },
    {
      "cell_type": "code",
      "execution_count": null,
      "metadata": {
        "colab": {
          "base_uri": "https://localhost:8080/"
        },
        "id": "DopzCcVZFkzz",
        "outputId": "5455efbe-6161-4fa3-90cb-4c78d1a555ed"
      },
      "outputs": [],
      "source": [
        "!python --version"
      ]
    },
    {
      "cell_type": "code",
      "execution_count": null,
      "metadata": {
        "colab": {
          "base_uri": "https://localhost:8080/"
        },
        "id": "NnhK52QG2JBQ",
        "outputId": "1273cc3e-4266-429c-d970-3c4e6aed02c1"
      },
      "outputs": [],
      "source": [
        "from google.colab import drive\n",
        "drive.mount('/content/drive')"
      ]
    },
    {
      "cell_type": "code",
      "execution_count": null,
      "metadata": {
        "id": "vqk9wXbHjvL0"
      },
      "outputs": [],
      "source": [
        "data = pd.read_csv('/content/drive/MyDrive/Datathon 2025 (HidupJ0kow1)/Dataset/preprocess/train_df.csv')"
      ]
    },
    {
      "cell_type": "markdown",
      "metadata": {
        "id": "LatN_Hwe7YmJ"
      },
      "source": [
        "### **Data Visz**"
      ]
    },
    {
      "cell_type": "code",
      "execution_count": null,
      "metadata": {
        "colab": {
          "base_uri": "https://localhost:8080/"
        },
        "id": "keyS_T1fimAP",
        "outputId": "ef444859-7db7-4221-e154-0f31f0c5eb8b"
      },
      "outputs": [],
      "source": [
        "data.info()"
      ]
    },
    {
      "cell_type": "code",
      "execution_count": null,
      "metadata": {
        "colab": {
          "base_uri": "https://localhost:8080/",
          "height": 236
        },
        "id": "LiONVLJoqBvI",
        "outputId": "9383b05b-acf2-4eb3-eac0-4047bb8c3ea6"
      },
      "outputs": [],
      "source": [
        "data.head()"
      ]
    },
    {
      "cell_type": "code",
      "execution_count": null,
      "metadata": {
        "colab": {
          "base_uri": "https://localhost:8080/",
          "height": 178
        },
        "id": "0EfrX5u9YXLu",
        "outputId": "40b8b39d-d7f3-4f14-d63e-ccecf4c02dfb"
      },
      "outputs": [],
      "source": [
        "data['label'].value_counts()"
      ]
    },
    {
      "cell_type": "code",
      "execution_count": null,
      "metadata": {
        "colab": {
          "base_uri": "https://localhost:8080/",
          "height": 398
        },
        "id": "O6T3dTxpu9Wq",
        "outputId": "d50e8bfc-1ece-4f5e-f9a2-363d98c26f16"
      },
      "outputs": [],
      "source": [
        "data['attack_cat_enc'].value_counts()"
      ]
    },
    {
      "cell_type": "code",
      "execution_count": null,
      "metadata": {
        "colab": {
          "base_uri": "https://localhost:8080/"
        },
        "id": "zyEyulG5doTo",
        "outputId": "61b56024-7125-4a10-b78a-4dcfd4d8a39a"
      },
      "outputs": [],
      "source": [
        "missing_values = data.isnull().sum()\n",
        "\n",
        "missing_values = missing_values[missing_values > 0]\n",
        "\n",
        "print(\"Missing values per kolom:\")\n",
        "print(missing_values)"
      ]
    },
    {
      "cell_type": "code",
      "execution_count": null,
      "metadata": {
        "colab": {
          "base_uri": "https://localhost:8080/"
        },
        "id": "dfVJ08O2Wwfc",
        "outputId": "70599bf5-adbe-4bae-9fb0-e4a845c80d06"
      },
      "outputs": [],
      "source": [
        "missing_values = data.isnull().sum()\n",
        "\n",
        "missing_percent = data.isnull().mean() * 100\n",
        "\n",
        "missing = pd.concat([missing_values, missing_percent], axis=1)\n",
        "missing.columns = ['Jumlah Missing', 'Persen']\n",
        "missing = missing[missing['Jumlah Missing'] > 0]\n",
        "print(missing)"
      ]
    },
    {
      "cell_type": "code",
      "execution_count": null,
      "metadata": {
        "id": "pGjMDcr-vRkP"
      },
      "outputs": [],
      "source": [
        "df_label = data.copy()\n",
        "\n",
        "data_label = df_label.drop(columns=['attack_cat_enc'])\n",
        "data_attack = data[data['attack_cat_enc'] != 5].drop(columns=['label'])"
      ]
    },
    {
      "cell_type": "markdown",
      "metadata": {
        "id": "MkZO0JOruWw3"
      },
      "source": [
        "### **Deteksi Serangan (1/0)**"
      ]
    },
    {
      "cell_type": "code",
      "execution_count": null,
      "metadata": {
        "colab": {
          "base_uri": "https://localhost:8080/",
          "height": 236
        },
        "id": "YDjE8kR4ujIR",
        "outputId": "106ae15c-9c2e-4cd2-8dbf-3de8c572116f"
      },
      "outputs": [],
      "source": [
        "data_label.head()"
      ]
    },
    {
      "cell_type": "code",
      "execution_count": null,
      "metadata": {
        "id": "v3TjPeG1v5wi"
      },
      "outputs": [],
      "source": [
        "X_label = data_label.drop(columns=['label'])\n",
        "y_label = data_label['label']"
      ]
    },
    {
      "cell_type": "code",
      "execution_count": null,
      "metadata": {
        "id": "6lfnBNEA0M_j"
      },
      "outputs": [],
      "source": [
        "X_train, X_test, y_train, y_test = train_test_split(X_label, y_label, test_size=0.2, random_state=42, stratify=y_label)"
      ]
    },
    {
      "cell_type": "code",
      "execution_count": null,
      "metadata": {
        "id": "128P8nce1Q7F"
      },
      "outputs": [],
      "source": [
        "def evaluate_binary_model(model, X_train, y_train, X_test, y_test):\n",
        "    print(\"==== Evaluasi pada Binary Data Training ====\")\n",
        "    y_train_pred = model.predict(X_train)\n",
        "    y_train_prob = model.predict_proba(X_train)[:, 1]  # Probabilitas class 1\n",
        "    print(f\"F1-score (class 1): {f1_score(y_train, y_train_pred, pos_label=1):.4f}\")\n",
        "    print(f\"Recall (class 1):   {recall_score(y_train, y_train_pred, pos_label=1):.4f}\")\n",
        "    print(f\"ROC-AUC score:      {roc_auc_score(y_train, y_train_prob):.4f}\")\n",
        "\n",
        "    print(\"\\n==== Evaluasi pada Binary Data Testing ====\")\n",
        "    y_test_pred = model.predict(X_test)\n",
        "    y_test_prob = model.predict_proba(X_test)[:, 1]\n",
        "    print(f\"F1-score (class 1): {f1_score(y_test, y_test_pred, pos_label=1):.4f}\")\n",
        "    print(f\"Recall (class 1):   {recall_score(y_test, y_test_pred, pos_label=1):.4f}\")\n",
        "    print(f\"ROC-AUC score:      {roc_auc_score(y_test, y_test_prob):.4f}\")"
      ]
    },
    {
      "cell_type": "markdown",
      "metadata": {
        "id": "hJzNNiLh7h93"
      },
      "source": [
        "**Optuna Param Tuning**"
      ]
    },
    {
      "cell_type": "code",
      "execution_count": null,
      "metadata": {
        "id": "NHvs0caW8gHh"
      },
      "outputs": [],
      "source": [
        "def objective(trial):\n",
        "    max_depth = trial.suggest_int(\"max_depth\", 3, 8)\n",
        "    max_leaves = min(200, 2 ** max_depth)\n",
        "    min_leaves = min(max_leaves, 2 ** (max_depth - 1))\n",
        "\n",
        "    param = {\n",
        "        \"objective\": \"binary\",\n",
        "        \"verbosity\": -1,\n",
        "        \"boosting_type\": \"gbdt\",\n",
        "        \"random_state\": 42,\n",
        "        \"n_jobs\": -1,\n",
        "        \"learning_rate\": trial.suggest_float(\"learning_rate\", 0.01, 0.2, log=True),\n",
        "        \"num_leaves\": trial.suggest_int(\"num_leaves\", min_leaves, max_leaves),\n",
        "        \"max_depth\": max_depth,\n",
        "        \"min_child_samples\": trial.suggest_int(\"min_child_samples\", 10, 100),\n",
        "        \"feature_fraction\": trial.suggest_float(\"feature_fraction\", 0.6, 1.0),\n",
        "        \"bagging_fraction\": trial.suggest_float(\"bagging_fraction\", 0.6, 1.0),\n",
        "        \"bagging_freq\": trial.suggest_int(\"bagging_freq\", 1, 7),\n",
        "        \"colsample_bytree\": trial.suggest_float(\"colsample_bytree\", 0.5, 1.0),\n",
        "        \"subsample_freq\": trial.suggest_int(\"subsample_freq\", 1, 5),\n",
        "        \"lambda_l1\": trial.suggest_float(\"lambda_l1\", 1e-8, 10.0, log=True),\n",
        "        \"lambda_l2\": trial.suggest_float(\"lambda_l2\", 1e-8, 10.0, log=True),\n",
        "        \"scale_pos_weight\": scale_pos_weight,\n",
        "    }\n",
        "\n",
        "    kf = KFold(n_splits=5, shuffle=True, random_state=42)\n",
        "    f1_scores = []\n",
        "    recall_scores = []\n",
        "    roc_auc_scores = []\n",
        "\n",
        "    for fold, (train_idx, val_idx) in enumerate(kf.split(X_train)):\n",
        "        X_tr, X_val_ = X_train.iloc[train_idx], X_train.iloc[val_idx]\n",
        "        y_tr, y_val_ = y_train.iloc[train_idx], y_train.iloc[val_idx]\n",
        "\n",
        "        model = lgb.LGBMClassifier(n_estimators=1000, **param)\n",
        "        model.fit(\n",
        "            X_tr, y_tr,\n",
        "            eval_set=[(X_val_, y_val_)],\n",
        "            eval_metric=\"binary_logloss\",\n",
        "            callbacks=[lgb.early_stopping(50), lgb.log_evaluation(0)]\n",
        "        )\n",
        "\n",
        "        y_pred = model.predict(X_val_)\n",
        "        y_proba = model.predict_proba(X_val_)[:, 1]  # diperlukan untuk ROC AUC\n",
        "\n",
        "        f1 = f1_score(y_val_, y_pred, pos_label=1)\n",
        "        recall = recall_score(y_val_, y_pred, pos_label=1)\n",
        "        auc = roc_auc_score(y_val_, y_proba)\n",
        "\n",
        "        print(f\"Fold {fold+1} — F1: {f1:.4f} | Recall: {recall:.4f} | ROC AUC: {auc:.4f}\")\n",
        "\n",
        "        f1_scores.append(f1)\n",
        "        recall_scores.append(recall)\n",
        "        roc_auc_scores.append(auc)\n",
        "\n",
        "    trial.set_user_attr(\"recall_macro\", np.mean(recall_scores))\n",
        "    trial.set_user_attr(\"roc_auc\", np.mean(roc_auc_scores))\n",
        "\n",
        "    return np.mean(f1_scores)"
      ]
    },
    {
      "cell_type": "code",
      "execution_count": null,
      "metadata": {
        "colab": {
          "base_uri": "https://localhost:8080/",
          "height": 1000,
          "referenced_widgets": [
            "c35936c5a8b5497f90a65ef885d7ad67",
            "4dcf530e6a9e404f9d226247c8dfec82",
            "97b2c1101a3b4203bfba3a93f8097b13",
            "d1e2d346043a46a889b2d0ce1674787c",
            "1423ab8f0b0e40e09850a4a1e35242a3",
            "4239b8d6267549378b0e06cde3723d78",
            "73e10d8912f24bc09cc0c886ce546d9f",
            "35fa29b2dded470f8c655114408e682b",
            "c27671e1fd284291a30b42ccdd068687",
            "5b9b66cd796843acbd39a27f3ccde2f9",
            "a9a02cac81f54131b6138e6fcf3381f5"
          ]
        },
        "id": "sH5lDgxLAPLA",
        "outputId": "b8dea7ab-7868-45bf-f913-cdc1a3772657"
      },
      "outputs": [],
      "source": [
        "db_path = \"/content/drive/MyDrive/Datathon 2025 (HidupJ0kow1)/Dataset/optuna/optuna_study.db\"\n",
        "\n",
        "neg, pos = np.bincount(y_train)\n",
        "scale_pos_weight = neg / pos\n",
        "\n",
        "study = optuna.create_study(\n",
        "    study_name=\"lgbm_f1score_optuna_no_pruner\",\n",
        "    direction='maximize',\n",
        "    storage=f\"sqlite:///{db_path}\",\n",
        "    load_if_exists=True\n",
        ")\n",
        "\n",
        "study.optimize(objective, n_trials=100, show_progress_bar=True)"
      ]
    },
    {
      "cell_type": "code",
      "execution_count": null,
      "metadata": {
        "colab": {
          "base_uri": "https://localhost:8080/",
          "height": 1000,
          "referenced_widgets": [
            "efbf860d1bac4eeb9ac6a0626611266d",
            "6d45cb1c7e3e46fc99064ded4fde7f0d",
            "8b838d4a537a427ba6eb357a389ea589",
            "f26ae0b84d1b41a7ac3ad7ce72f59577",
            "387789e9e84f45b6931965b8c925f7ef",
            "5871381c2885496cbf7676d8c8e062e3",
            "36f3a779b02f42b58f83944b07700c39",
            "911e97c81bd2485a9d4c61c08af6ca3e",
            "f63a630a1b5f475e9c28fe3f25729bf2",
            "b71e25c9e362494899651cd423bd525c",
            "0365d1205a714b25b94499f392575d67"
          ]
        },
        "id": "CMhq8YNv8oes",
        "outputId": "a5f4000e-4d23-42e5-f3fb-8d55cf4b5199"
      },
      "outputs": [],
      "source": [
        "neg, pos = np.bincount(y_train)\n",
        "scale_pos_weight = neg / pos\n",
        "\n",
        "study = optuna.load_study(\n",
        "    study_name=\"lgbm_f1score_optuna_no_pruner\",\n",
        "    storage = \"sqlite:////content/drive/MyDrive/Datathon 2025 (HidupJ0kow1)/Dataset/optuna/optuna_study.db\"\n",
        ")\n",
        "study.optimize(objective, n_trials=26, show_progress_bar=True)"
      ]
    },
    {
      "cell_type": "code",
      "execution_count": null,
      "metadata": {
        "id": "aGbdZ_K-_tv0"
      },
      "outputs": [],
      "source": [
        "import json\n",
        "\n",
        "with open(\"/content/drive/MyDrive/Datathon 2025 (HidupJ0kow1)/Dataset/optuna/lgbm_params.json\", \"w\") as f:\n",
        "    json.dump(study.best_trial.params, f)"
      ]
    },
    {
      "cell_type": "code",
      "execution_count": null,
      "metadata": {
        "colab": {
          "base_uri": "https://localhost:8080/"
        },
        "id": "MAmZUkNU_kbO",
        "outputId": "81b8155d-048c-476c-fed6-7a262d34d783"
      },
      "outputs": [],
      "source": [
        "print(\"Best trial:\")\n",
        "print(\"  Balanced Accuracy:\", study.best_value)\n",
        "print(\"  Best Params:\")\n",
        "for key, value in study.best_params.items():\n",
        "    print(f\"    {key}: {value}\")"
      ]
    },
    {
      "cell_type": "code",
      "execution_count": null,
      "metadata": {
        "colab": {
          "base_uri": "https://localhost:8080/"
        },
        "id": "8U0Alaw8AJAe",
        "outputId": "2ed88997-a0a0-4c8d-fe66-2183565d9a96"
      },
      "outputs": [],
      "source": [
        "neg, pos = np.bincount(y_train)\n",
        "scale_pos_weight = neg / pos\n",
        "\n",
        "best_params = study.best_params\n",
        "best_params.update({\n",
        "    \"objective\": \"binary\",\n",
        "    \"random_state\": 42,\n",
        "    \"scale_pos_weight\": scale_pos_weight,\n",
        "    \"n_jobs\": -1\n",
        "})\n",
        "\n",
        "lgbm_bin = lgb.LGBMClassifier(\n",
        "    n_estimators=1000,\n",
        "    **best_params\n",
        ")\n",
        "\n",
        "lgbm_bin.fit(X_train, y_train,\n",
        "                   eval_set=[(X_test, y_test)],\n",
        "                   eval_metric=\"auc\",\n",
        "                   callbacks=[lgb.early_stopping(50), lgb.log_evaluation(10)])\n",
        "evaluate_binary_model(lgbm_bin, X_train, y_train, X_test, y_test)"
      ]
    },
    {
      "cell_type": "code",
      "execution_count": null,
      "metadata": {
        "colab": {
          "base_uri": "https://localhost:8080/"
        },
        "id": "zjWf2MwZFAdw",
        "outputId": "33c04b5a-1d98-4224-c3eb-66da6f141190"
      },
      "outputs": [],
      "source": [
        "import joblib\n",
        "\n",
        "joblib.dump(lgbm_bin, '/content/drive/MyDrive/Datathon 2025 (HidupJ0kow1)/Model/lgbm_binary_model.pkl')"
      ]
    },
    {
      "cell_type": "markdown",
      "metadata": {
        "id": "i9x_79ZL2RG8"
      },
      "source": [
        "### **Deteksi Jenis Serangan**"
      ]
    },
    {
      "cell_type": "code",
      "execution_count": null,
      "metadata": {
        "colab": {
          "base_uri": "https://localhost:8080/",
          "height": 256
        },
        "id": "-rC_c9rI0fCr",
        "outputId": "ca3fcfd8-6a04-4220-d69f-afc0b5da1570"
      },
      "outputs": [],
      "source": [
        "data_attack.head()"
      ]
    },
    {
      "cell_type": "code",
      "execution_count": null,
      "metadata": {
        "id": "TXiSp-MN2azA"
      },
      "outputs": [],
      "source": [
        "X_att = data_attack.drop(columns=['attack_cat_enc'])\n",
        "y_att = data_attack['attack_cat_enc']"
      ]
    },
    {
      "cell_type": "code",
      "execution_count": null,
      "metadata": {
        "id": "fWnIDpPM2xci"
      },
      "outputs": [],
      "source": [
        "X_train_att, X_test_att, y_train_att, y_test_att = train_test_split(X_att, y_att, test_size=0.2, random_state=42, stratify=y_att)"
      ]
    },
    {
      "cell_type": "code",
      "execution_count": null,
      "metadata": {
        "colab": {
          "base_uri": "https://localhost:8080/"
        },
        "id": "-28B1yrvLjUn",
        "outputId": "c26a6d4c-611a-42b1-e7b8-842a1187c2bc"
      },
      "outputs": [],
      "source": [
        "print(X_att.columns.tolist())"
      ]
    },
    {
      "cell_type": "code",
      "execution_count": null,
      "metadata": {
        "colab": {
          "base_uri": "https://localhost:8080/"
        },
        "id": "6YNkWZPuiDX9",
        "outputId": "f3a7b249-7cf7-482b-cd74-f98bdf6deda7"
      },
      "outputs": [],
      "source": [
        "from imblearn.over_sampling import SMOTENC\n",
        "from collections import Counter\n",
        "\n",
        "categorical_cols = [\n",
        "    'is_sm_ips_ports',\n",
        "    'ct_state_ttl',\n",
        "    'ct_flw_http_mthd',\n",
        "    'is_ftp_login',\n",
        "    'stime_hour',\n",
        "    'stime_weekday',\n",
        "    'ltime_hour',\n",
        "    'ltime_weekday'\n",
        "]\n",
        "\n",
        "categorical_features = [X_att.columns.get_loc(col) for col in categorical_cols]\n",
        "\n",
        "smote_nc = SMOTENC(categorical_features=categorical_features, random_state=42)\n",
        "X_train_smt, y_train_smt = smote_nc.fit_resample(X_train_att, y_train_att)\n",
        "\n",
        "print(\"Distribusi setelah SMOTENC:\", Counter(y_train_smt))"
      ]
    },
    {
      "cell_type": "code",
      "execution_count": null,
      "metadata": {
        "id": "6nU9oB-s2ugz"
      },
      "outputs": [],
      "source": [
        "from sklearn.metrics import f1_score, recall_score, classification_report, confusion_matrix\n",
        "\n",
        "def evaluate_multiclass_model(model, X_train, y_train, X_test, y_test):\n",
        "    print(\"==== Evaluasi pada Multi Class Data Training ====\")\n",
        "    y_train_pred = model.predict(X_train)\n",
        "    print(\"F1-score (macro):\", f1_score(y_train, y_train_pred, average='macro'))\n",
        "    print(\"Recall (macro):  \", recall_score(y_train, y_train_pred, average='macro'))\n",
        "    print(\"\\nClassification Report (Train):\")\n",
        "    print(classification_report(y_train, y_train_pred))\n",
        "\n",
        "    print(\"\\n==== Evaluasi pada Multi Class Data Testing ====\")\n",
        "    y_test_pred = model.predict(X_test)\n",
        "    print(\"F1-score (macro):\", f1_score(y_test, y_test_pred, average='macro'))\n",
        "    print(\"Recall (macro):  \", recall_score(y_test, y_test_pred, average='macro'))\n",
        "    print(\"\\nClassification Report (Test):\")\n",
        "    print(classification_report(y_test, y_test_pred))"
      ]
    },
    {
      "cell_type": "markdown",
      "metadata": {
        "id": "PQ4v2Z4u7noz"
      },
      "source": [
        "**Optuna Param Tuning**"
      ]
    },
    {
      "cell_type": "code",
      "execution_count": null,
      "metadata": {
        "id": "58cyvhfICOw6"
      },
      "outputs": [],
      "source": [
        "def objective_multiclass(trial):\n",
        "    num_class = y_train_att.nunique()\n",
        "\n",
        "    max_depth = trial.suggest_int(\"max_depth\", 3, 10)\n",
        "    max_leaves = min(255, 2 ** max_depth)\n",
        "    min_leaves = min(max_leaves, 2 ** (max_depth - 1))\n",
        "\n",
        "    param = {\n",
        "        \"objective\": \"multiclass\",\n",
        "        \"num_class\": num_class,\n",
        "        \"verbosity\": -1,\n",
        "        \"boosting_type\": \"gbdt\",\n",
        "        \"random_state\": 42,\n",
        "        \"n_jobs\": -1,\n",
        "        \"learning_rate\": trial.suggest_float(\"learning_rate\", 0.01, 0.2, log=True),\n",
        "        \"num_leaves\": trial.suggest_int(\"num_leaves\", min_leaves, max_leaves),\n",
        "        \"max_depth\": max_depth,\n",
        "        \"min_child_samples\": trial.suggest_int(\"min_child_samples\", 10, 100),\n",
        "        \"feature_fraction\": trial.suggest_float(\"feature_fraction\", 0.6, 1.0),\n",
        "        \"bagging_fraction\": trial.suggest_float(\"bagging_fraction\", 0.6, 1.0),\n",
        "        \"bagging_freq\": trial.suggest_int(\"bagging_freq\", 1, 7),\n",
        "        \"colsample_bytree\": trial.suggest_float(\"colsample_bytree\", 0.5, 1.0),\n",
        "        \"subsample_freq\": trial.suggest_int(\"subsample_freq\", 1, 5),\n",
        "        \"lambda_l1\": trial.suggest_float(\"lambda_l1\", 1e-8, 10.0, log=True),\n",
        "        \"lambda_l2\": trial.suggest_float(\"lambda_l2\", 1e-8, 10.0, log=True),\n",
        "        \"class_weight\": \"balanced\"  # Tambahkan ini\n",
        "    }\n",
        "\n",
        "    kf = StratifiedKFold(n_splits=5, shuffle=True, random_state=42)\n",
        "    f1_scores = []\n",
        "\n",
        "    for fold, (train_idx, val_idx) in enumerate(kf.split(X_train_smt, y_train_smt)):\n",
        "        X_tr, X_val = X_train_smt.iloc[train_idx], X_train_smt.iloc[val_idx]\n",
        "        y_tr, y_val = y_train_smt.iloc[train_idx], y_train_smt.iloc[val_idx]\n",
        "\n",
        "        model = lgb.LGBMClassifier(n_estimators=1000, **param)\n",
        "\n",
        "        model.fit(\n",
        "            X_tr, y_tr,\n",
        "            eval_set=[(X_val, y_val)],\n",
        "            eval_metric=\"multi_logloss\",\n",
        "            callbacks=[lgb.early_stopping(50), lgb.log_evaluation(0)]\n",
        "        )\n",
        "\n",
        "        y_pred = model.predict(X_val)\n",
        "        f1 = f1_score(y_val, y_pred, average=\"macro\")\n",
        "        f1_scores.append(f1)\n",
        "\n",
        "        print(f\"Fold {fold+1} — Macro F1: {f1:.4f}\")\n",
        "\n",
        "    return np.mean(f1_scores)"
      ]
    },
    {
      "cell_type": "code",
      "execution_count": null,
      "metadata": {
        "colab": {
          "base_uri": "https://localhost:8080/",
          "height": 1000,
          "referenced_widgets": [
            "6b617d8ba3ba4bfa8f089eac00029d8c",
            "8a6c3622764148418dfa06390a51b9ea",
            "53350f92bdb147428215feed9338d1e5",
            "50d0965bc6d542c4a65967532c9a9e22",
            "3bf9a89dcb004b8ba5af74f2a339bb99",
            "b4a285af81944de9b7ba5e1ee1b0cc3a",
            "2f789e12a3314f13ba9b7d53f7ba7d00",
            "2b7e719be7f9438d90ff13253cb3b3fa",
            "4e2db9e58aa74b868b3c8700e33d3397",
            "a6c592bccef346008ac5542e399cc514",
            "9a118d11a0234d9a9622e8051bfb2fc6"
          ]
        },
        "id": "mUHND9urCgNc",
        "outputId": "e99b4ec6-e0c8-4015-836a-4b3bfe796e84"
      },
      "outputs": [],
      "source": [
        "study_multi = optuna.create_study(\n",
        "    study_name=\"lgbm_multiclass_optuna\",\n",
        "    direction=\"maximize\",\n",
        "    storage=\"sqlite:////content/drive/MyDrive/Datathon 2025 (HidupJ0kow1)/Dataset/optuna/study_multiclass_classweight.db\",\n",
        "    load_if_exists=True\n",
        ")\n",
        "\n",
        "study_multi.optimize(objective_multiclass, n_trials=50, show_progress_bar=True)"
      ]
    },
    {
      "cell_type": "code",
      "execution_count": null,
      "metadata": {
        "colab": {
          "base_uri": "https://localhost:8080/",
          "height": 1000,
          "referenced_widgets": [
            "b80194d6ba774cf5ac1d8e48905e2478",
            "45a3e40aff1a4c8d8c7b07a1a25506d2",
            "d17f22654941429abbfdc5e8caddb676",
            "316625c168694671a6e88ca64134bec4",
            "72322bb8d98c4bd5b0d25389dfc4c417",
            "3b96ee02dbd240c6bf44994600db9df9",
            "a194ebae7bcf430b9c201101f24957c7",
            "4013fd57228849c187754d8e94103559",
            "70ba1479c53c4499b63107f68ab09b03",
            "b4cab2bdab1744e8af4cc0ce53f0b29f",
            "32a1002a247c49b3a7ce8628edbd81b4"
          ]
        },
        "id": "ncOPr_ACGor1",
        "outputId": "2eacc1f2-7ca5-4307-ee18-48a8f38d4a18"
      },
      "outputs": [],
      "source": [
        "study_multi = optuna.load_study(\n",
        "    study_name=\"lgbm_multiclass_optuna\",\n",
        "    storage = \"sqlite:////content/drive/MyDrive/Datathon 2025 (HidupJ0kow1)/Dataset/optuna/study_multiclass_classweight.db\"\n",
        ")\n",
        "study_multi.optimize(objective_multiclass, n_trials=12, show_progress_bar=True)"
      ]
    },
    {
      "cell_type": "code",
      "execution_count": null,
      "metadata": {
        "id": "3FI7-RRlDGX0"
      },
      "outputs": [],
      "source": [
        "import json\n",
        "\n",
        "with open(\"/content/drive/MyDrive/Datathon 2025 (HidupJ0kow1)/Dataset/optuna/lgbm_params_multi_classweight.json\", \"w\") as f:\n",
        "    json.dump(study_multi.best_trial.params, f)"
      ]
    },
    {
      "cell_type": "code",
      "execution_count": null,
      "metadata": {
        "id": "_ve6EyLuzaZG"
      },
      "outputs": [],
      "source": [
        "import json\n",
        "\n",
        "with open(\"/content/drive/MyDrive/Datathon 2025 (HidupJ0kow1)/Dataset/optuna/lgbm_params_multi_classweight.json\", \"r\") as f:\n",
        "    best_params_multi = json.load(f)"
      ]
    },
    {
      "cell_type": "code",
      "execution_count": null,
      "metadata": {
        "colab": {
          "base_uri": "https://localhost:8080/"
        },
        "id": "SBA0xP9Z3PBc",
        "outputId": "d9d78cee-e91b-4e00-a074-22a1a3e5f0c0"
      },
      "outputs": [],
      "source": [
        "# best_params_multi = study_multi.best_params\n",
        "best_params_multi.update({\n",
        "    \"objective\": \"multiclass\",\n",
        "    \"num_class\": y_train_smt.nunique(),\n",
        "    \"random_state\": 42,\n",
        "    \"n_jobs\": -1,\n",
        "})\n",
        "\n",
        "lgbm_multi = lgb.LGBMClassifier(n_estimators=1000, **best_params_multi)\n",
        "\n",
        "lgbm_multi.fit(\n",
        "    X_train_smt, y_train_smt,\n",
        "    eval_set=[(X_test_att, y_test_att)],\n",
        "    eval_metric=\"multi_logloss\",\n",
        "    callbacks=[lgb.early_stopping(50), lgb.log_evaluation(10)]\n",
        ")\n",
        "\n",
        "evaluate_multiclass_model(lgbm_multi, X_train_smt, y_train_smt, X_test_att, y_test_att)"
      ]
    },
    {
      "cell_type": "code",
      "execution_count": null,
      "metadata": {
        "id": "NeTQaNG0N2h7"
      },
      "outputs": [],
      "source": [
        "def predict_with_confidence(model, X, threshold=0.6):\n",
        "    proba = model.predict_proba(X)\n",
        "    max_confidence = np.max(proba, axis=1)\n",
        "    preds = np.argmax(proba, axis=1)\n",
        "\n",
        "    preds_with_unknown = np.where(max_confidence < threshold, -1, preds)\n",
        "\n",
        "    return preds_with_unknown, max_confidence"
      ]
    },
    {
      "cell_type": "code",
      "execution_count": null,
      "metadata": {
        "colab": {
          "base_uri": "https://localhost:8080/"
        },
        "id": "78SVdzLjN4_r",
        "outputId": "d3f3e173-e9eb-4c9c-ae6b-dfcc0be75a08"
      },
      "outputs": [],
      "source": [
        "from sklearn.metrics import classification_report\n",
        "\n",
        "y_pred, confidences = predict_with_confidence(lgbm_multi, X_test_att, threshold=0.6)\n",
        "\n",
        "mask_valid = y_pred != -1\n",
        "print(classification_report(y_test_att[mask_valid], y_pred[mask_valid]))\n",
        "\n",
        "print(\"Total prediksi unknown:\", np.sum(y_pred == -1))"
      ]
    },
    {
      "cell_type": "code",
      "execution_count": null,
      "metadata": {
        "id": "a_dpzg7fOwlt"
      },
      "outputs": [],
      "source": [
        "y_proba = lgbm_multi.predict_proba(X_test_att)\n",
        "\n",
        "max_proba = y_proba.max(axis=1)"
      ]
    },
    {
      "cell_type": "code",
      "execution_count": null,
      "metadata": {
        "colab": {
          "base_uri": "https://localhost:8080/",
          "height": 452
        },
        "id": "EojPhhBrOnb7",
        "outputId": "33d0ceea-ee5f-4c28-d40c-29e64e8b97b0"
      },
      "outputs": [],
      "source": [
        "import matplotlib.pyplot as plt\n",
        "plt.hist(max_proba, bins=20)\n",
        "plt.title(\"Distribusi Confidence Prediksi\")\n",
        "plt.show()"
      ]
    },
    {
      "cell_type": "code",
      "execution_count": null,
      "metadata": {
        "colab": {
          "base_uri": "https://localhost:8080/"
        },
        "id": "8IXuqeeTOn19",
        "outputId": "a126141b-d6d5-43b6-dca9-e7ff10baaf9f"
      },
      "outputs": [],
      "source": [
        "import joblib\n",
        "\n",
        "joblib.dump(lgbm_multi, '/content/drive/MyDrive/Datathon 2025 (HidupJ0kow1)/Model/lgbm_multiclass_model.pkl')"
      ]
    }
  ],
  "metadata": {
    "colab": {
      "collapsed_sections": [
        "LatN_Hwe7YmJ",
        "MkZO0JOruWw3"
      ],
      "provenance": []
    },
    "kernelspec": {
      "display_name": "Python 3",
      "name": "python3"
    },
    "language_info": {
      "name": "python"
    },
    "widgets": {
      "application/vnd.jupyter.widget-state+json": {
        "0365d1205a714b25b94499f392575d67": {
          "model_module": "@jupyter-widgets/controls",
          "model_module_version": "1.5.0",
          "model_name": "DescriptionStyleModel",
          "state": {
            "_model_module": "@jupyter-widgets/controls",
            "_model_module_version": "1.5.0",
            "_model_name": "DescriptionStyleModel",
            "_view_count": null,
            "_view_module": "@jupyter-widgets/base",
            "_view_module_version": "1.2.0",
            "_view_name": "StyleView",
            "description_width": ""
          }
        },
        "1423ab8f0b0e40e09850a4a1e35242a3": {
          "model_module": "@jupyter-widgets/base",
          "model_module_version": "1.2.0",
          "model_name": "LayoutModel",
          "state": {
            "_model_module": "@jupyter-widgets/base",
            "_model_module_version": "1.2.0",
            "_model_name": "LayoutModel",
            "_view_count": null,
            "_view_module": "@jupyter-widgets/base",
            "_view_module_version": "1.2.0",
            "_view_name": "LayoutView",
            "align_content": null,
            "align_items": null,
            "align_self": null,
            "border": null,
            "bottom": null,
            "display": null,
            "flex": null,
            "flex_flow": null,
            "grid_area": null,
            "grid_auto_columns": null,
            "grid_auto_flow": null,
            "grid_auto_rows": null,
            "grid_column": null,
            "grid_gap": null,
            "grid_row": null,
            "grid_template_areas": null,
            "grid_template_columns": null,
            "grid_template_rows": null,
            "height": null,
            "justify_content": null,
            "justify_items": null,
            "left": null,
            "margin": null,
            "max_height": null,
            "max_width": null,
            "min_height": null,
            "min_width": null,
            "object_fit": null,
            "object_position": null,
            "order": null,
            "overflow": null,
            "overflow_x": null,
            "overflow_y": null,
            "padding": null,
            "right": null,
            "top": null,
            "visibility": null,
            "width": null
          }
        },
        "2b7e719be7f9438d90ff13253cb3b3fa": {
          "model_module": "@jupyter-widgets/base",
          "model_module_version": "1.2.0",
          "model_name": "LayoutModel",
          "state": {
            "_model_module": "@jupyter-widgets/base",
            "_model_module_version": "1.2.0",
            "_model_name": "LayoutModel",
            "_view_count": null,
            "_view_module": "@jupyter-widgets/base",
            "_view_module_version": "1.2.0",
            "_view_name": "LayoutView",
            "align_content": null,
            "align_items": null,
            "align_self": null,
            "border": null,
            "bottom": null,
            "display": null,
            "flex": null,
            "flex_flow": null,
            "grid_area": null,
            "grid_auto_columns": null,
            "grid_auto_flow": null,
            "grid_auto_rows": null,
            "grid_column": null,
            "grid_gap": null,
            "grid_row": null,
            "grid_template_areas": null,
            "grid_template_columns": null,
            "grid_template_rows": null,
            "height": null,
            "justify_content": null,
            "justify_items": null,
            "left": null,
            "margin": null,
            "max_height": null,
            "max_width": null,
            "min_height": null,
            "min_width": null,
            "object_fit": null,
            "object_position": null,
            "order": null,
            "overflow": null,
            "overflow_x": null,
            "overflow_y": null,
            "padding": null,
            "right": null,
            "top": null,
            "visibility": null,
            "width": null
          }
        },
        "2f789e12a3314f13ba9b7d53f7ba7d00": {
          "model_module": "@jupyter-widgets/controls",
          "model_module_version": "1.5.0",
          "model_name": "DescriptionStyleModel",
          "state": {
            "_model_module": "@jupyter-widgets/controls",
            "_model_module_version": "1.5.0",
            "_model_name": "DescriptionStyleModel",
            "_view_count": null,
            "_view_module": "@jupyter-widgets/base",
            "_view_module_version": "1.2.0",
            "_view_name": "StyleView",
            "description_width": ""
          }
        },
        "316625c168694671a6e88ca64134bec4": {
          "model_module": "@jupyter-widgets/controls",
          "model_module_version": "1.5.0",
          "model_name": "HTMLModel",
          "state": {
            "_dom_classes": [],
            "_model_module": "@jupyter-widgets/controls",
            "_model_module_version": "1.5.0",
            "_model_name": "HTMLModel",
            "_view_count": null,
            "_view_module": "@jupyter-widgets/controls",
            "_view_module_version": "1.5.0",
            "_view_name": "HTMLView",
            "description": "",
            "description_tooltip": null,
            "layout": "IPY_MODEL_b4cab2bdab1744e8af4cc0ce53f0b29f",
            "placeholder": "​",
            "style": "IPY_MODEL_32a1002a247c49b3a7ce8628edbd81b4",
            "value": " 12/12 [3:27:40&lt;00:00, 716.32s/it]"
          }
        },
        "32a1002a247c49b3a7ce8628edbd81b4": {
          "model_module": "@jupyter-widgets/controls",
          "model_module_version": "1.5.0",
          "model_name": "DescriptionStyleModel",
          "state": {
            "_model_module": "@jupyter-widgets/controls",
            "_model_module_version": "1.5.0",
            "_model_name": "DescriptionStyleModel",
            "_view_count": null,
            "_view_module": "@jupyter-widgets/base",
            "_view_module_version": "1.2.0",
            "_view_name": "StyleView",
            "description_width": ""
          }
        },
        "35fa29b2dded470f8c655114408e682b": {
          "model_module": "@jupyter-widgets/base",
          "model_module_version": "1.2.0",
          "model_name": "LayoutModel",
          "state": {
            "_model_module": "@jupyter-widgets/base",
            "_model_module_version": "1.2.0",
            "_model_name": "LayoutModel",
            "_view_count": null,
            "_view_module": "@jupyter-widgets/base",
            "_view_module_version": "1.2.0",
            "_view_name": "LayoutView",
            "align_content": null,
            "align_items": null,
            "align_self": null,
            "border": null,
            "bottom": null,
            "display": null,
            "flex": null,
            "flex_flow": null,
            "grid_area": null,
            "grid_auto_columns": null,
            "grid_auto_flow": null,
            "grid_auto_rows": null,
            "grid_column": null,
            "grid_gap": null,
            "grid_row": null,
            "grid_template_areas": null,
            "grid_template_columns": null,
            "grid_template_rows": null,
            "height": null,
            "justify_content": null,
            "justify_items": null,
            "left": null,
            "margin": null,
            "max_height": null,
            "max_width": null,
            "min_height": null,
            "min_width": null,
            "object_fit": null,
            "object_position": null,
            "order": null,
            "overflow": null,
            "overflow_x": null,
            "overflow_y": null,
            "padding": null,
            "right": null,
            "top": null,
            "visibility": null,
            "width": null
          }
        },
        "36f3a779b02f42b58f83944b07700c39": {
          "model_module": "@jupyter-widgets/controls",
          "model_module_version": "1.5.0",
          "model_name": "DescriptionStyleModel",
          "state": {
            "_model_module": "@jupyter-widgets/controls",
            "_model_module_version": "1.5.0",
            "_model_name": "DescriptionStyleModel",
            "_view_count": null,
            "_view_module": "@jupyter-widgets/base",
            "_view_module_version": "1.2.0",
            "_view_name": "StyleView",
            "description_width": ""
          }
        },
        "387789e9e84f45b6931965b8c925f7ef": {
          "model_module": "@jupyter-widgets/base",
          "model_module_version": "1.2.0",
          "model_name": "LayoutModel",
          "state": {
            "_model_module": "@jupyter-widgets/base",
            "_model_module_version": "1.2.0",
            "_model_name": "LayoutModel",
            "_view_count": null,
            "_view_module": "@jupyter-widgets/base",
            "_view_module_version": "1.2.0",
            "_view_name": "LayoutView",
            "align_content": null,
            "align_items": null,
            "align_self": null,
            "border": null,
            "bottom": null,
            "display": null,
            "flex": null,
            "flex_flow": null,
            "grid_area": null,
            "grid_auto_columns": null,
            "grid_auto_flow": null,
            "grid_auto_rows": null,
            "grid_column": null,
            "grid_gap": null,
            "grid_row": null,
            "grid_template_areas": null,
            "grid_template_columns": null,
            "grid_template_rows": null,
            "height": null,
            "justify_content": null,
            "justify_items": null,
            "left": null,
            "margin": null,
            "max_height": null,
            "max_width": null,
            "min_height": null,
            "min_width": null,
            "object_fit": null,
            "object_position": null,
            "order": null,
            "overflow": null,
            "overflow_x": null,
            "overflow_y": null,
            "padding": null,
            "right": null,
            "top": null,
            "visibility": null,
            "width": null
          }
        },
        "3b96ee02dbd240c6bf44994600db9df9": {
          "model_module": "@jupyter-widgets/base",
          "model_module_version": "1.2.0",
          "model_name": "LayoutModel",
          "state": {
            "_model_module": "@jupyter-widgets/base",
            "_model_module_version": "1.2.0",
            "_model_name": "LayoutModel",
            "_view_count": null,
            "_view_module": "@jupyter-widgets/base",
            "_view_module_version": "1.2.0",
            "_view_name": "LayoutView",
            "align_content": null,
            "align_items": null,
            "align_self": null,
            "border": null,
            "bottom": null,
            "display": null,
            "flex": null,
            "flex_flow": null,
            "grid_area": null,
            "grid_auto_columns": null,
            "grid_auto_flow": null,
            "grid_auto_rows": null,
            "grid_column": null,
            "grid_gap": null,
            "grid_row": null,
            "grid_template_areas": null,
            "grid_template_columns": null,
            "grid_template_rows": null,
            "height": null,
            "justify_content": null,
            "justify_items": null,
            "left": null,
            "margin": null,
            "max_height": null,
            "max_width": null,
            "min_height": null,
            "min_width": null,
            "object_fit": null,
            "object_position": null,
            "order": null,
            "overflow": null,
            "overflow_x": null,
            "overflow_y": null,
            "padding": null,
            "right": null,
            "top": null,
            "visibility": null,
            "width": null
          }
        },
        "3bf9a89dcb004b8ba5af74f2a339bb99": {
          "model_module": "@jupyter-widgets/base",
          "model_module_version": "1.2.0",
          "model_name": "LayoutModel",
          "state": {
            "_model_module": "@jupyter-widgets/base",
            "_model_module_version": "1.2.0",
            "_model_name": "LayoutModel",
            "_view_count": null,
            "_view_module": "@jupyter-widgets/base",
            "_view_module_version": "1.2.0",
            "_view_name": "LayoutView",
            "align_content": null,
            "align_items": null,
            "align_self": null,
            "border": null,
            "bottom": null,
            "display": null,
            "flex": null,
            "flex_flow": null,
            "grid_area": null,
            "grid_auto_columns": null,
            "grid_auto_flow": null,
            "grid_auto_rows": null,
            "grid_column": null,
            "grid_gap": null,
            "grid_row": null,
            "grid_template_areas": null,
            "grid_template_columns": null,
            "grid_template_rows": null,
            "height": null,
            "justify_content": null,
            "justify_items": null,
            "left": null,
            "margin": null,
            "max_height": null,
            "max_width": null,
            "min_height": null,
            "min_width": null,
            "object_fit": null,
            "object_position": null,
            "order": null,
            "overflow": null,
            "overflow_x": null,
            "overflow_y": null,
            "padding": null,
            "right": null,
            "top": null,
            "visibility": null,
            "width": null
          }
        },
        "4013fd57228849c187754d8e94103559": {
          "model_module": "@jupyter-widgets/base",
          "model_module_version": "1.2.0",
          "model_name": "LayoutModel",
          "state": {
            "_model_module": "@jupyter-widgets/base",
            "_model_module_version": "1.2.0",
            "_model_name": "LayoutModel",
            "_view_count": null,
            "_view_module": "@jupyter-widgets/base",
            "_view_module_version": "1.2.0",
            "_view_name": "LayoutView",
            "align_content": null,
            "align_items": null,
            "align_self": null,
            "border": null,
            "bottom": null,
            "display": null,
            "flex": null,
            "flex_flow": null,
            "grid_area": null,
            "grid_auto_columns": null,
            "grid_auto_flow": null,
            "grid_auto_rows": null,
            "grid_column": null,
            "grid_gap": null,
            "grid_row": null,
            "grid_template_areas": null,
            "grid_template_columns": null,
            "grid_template_rows": null,
            "height": null,
            "justify_content": null,
            "justify_items": null,
            "left": null,
            "margin": null,
            "max_height": null,
            "max_width": null,
            "min_height": null,
            "min_width": null,
            "object_fit": null,
            "object_position": null,
            "order": null,
            "overflow": null,
            "overflow_x": null,
            "overflow_y": null,
            "padding": null,
            "right": null,
            "top": null,
            "visibility": null,
            "width": null
          }
        },
        "4239b8d6267549378b0e06cde3723d78": {
          "model_module": "@jupyter-widgets/base",
          "model_module_version": "1.2.0",
          "model_name": "LayoutModel",
          "state": {
            "_model_module": "@jupyter-widgets/base",
            "_model_module_version": "1.2.0",
            "_model_name": "LayoutModel",
            "_view_count": null,
            "_view_module": "@jupyter-widgets/base",
            "_view_module_version": "1.2.0",
            "_view_name": "LayoutView",
            "align_content": null,
            "align_items": null,
            "align_self": null,
            "border": null,
            "bottom": null,
            "display": null,
            "flex": null,
            "flex_flow": null,
            "grid_area": null,
            "grid_auto_columns": null,
            "grid_auto_flow": null,
            "grid_auto_rows": null,
            "grid_column": null,
            "grid_gap": null,
            "grid_row": null,
            "grid_template_areas": null,
            "grid_template_columns": null,
            "grid_template_rows": null,
            "height": null,
            "justify_content": null,
            "justify_items": null,
            "left": null,
            "margin": null,
            "max_height": null,
            "max_width": null,
            "min_height": null,
            "min_width": null,
            "object_fit": null,
            "object_position": null,
            "order": null,
            "overflow": null,
            "overflow_x": null,
            "overflow_y": null,
            "padding": null,
            "right": null,
            "top": null,
            "visibility": null,
            "width": null
          }
        },
        "45a3e40aff1a4c8d8c7b07a1a25506d2": {
          "model_module": "@jupyter-widgets/controls",
          "model_module_version": "1.5.0",
          "model_name": "HTMLModel",
          "state": {
            "_dom_classes": [],
            "_model_module": "@jupyter-widgets/controls",
            "_model_module_version": "1.5.0",
            "_model_name": "HTMLModel",
            "_view_count": null,
            "_view_module": "@jupyter-widgets/controls",
            "_view_module_version": "1.5.0",
            "_view_name": "HTMLView",
            "description": "",
            "description_tooltip": null,
            "layout": "IPY_MODEL_3b96ee02dbd240c6bf44994600db9df9",
            "placeholder": "​",
            "style": "IPY_MODEL_a194ebae7bcf430b9c201101f24957c7",
            "value": "Best trial: 45. Best value: 0.878604: 100%"
          }
        },
        "4dcf530e6a9e404f9d226247c8dfec82": {
          "model_module": "@jupyter-widgets/controls",
          "model_module_version": "1.5.0",
          "model_name": "HTMLModel",
          "state": {
            "_dom_classes": [],
            "_model_module": "@jupyter-widgets/controls",
            "_model_module_version": "1.5.0",
            "_model_name": "HTMLModel",
            "_view_count": null,
            "_view_module": "@jupyter-widgets/controls",
            "_view_module_version": "1.5.0",
            "_view_name": "HTMLView",
            "description": "",
            "description_tooltip": null,
            "layout": "IPY_MODEL_4239b8d6267549378b0e06cde3723d78",
            "placeholder": "​",
            "style": "IPY_MODEL_73e10d8912f24bc09cc0c886ce546d9f",
            "value": "Best trial: 31. Best value: 0.927365:  37%"
          }
        },
        "4e2db9e58aa74b868b3c8700e33d3397": {
          "model_module": "@jupyter-widgets/controls",
          "model_module_version": "1.5.0",
          "model_name": "ProgressStyleModel",
          "state": {
            "_model_module": "@jupyter-widgets/controls",
            "_model_module_version": "1.5.0",
            "_model_name": "ProgressStyleModel",
            "_view_count": null,
            "_view_module": "@jupyter-widgets/base",
            "_view_module_version": "1.2.0",
            "_view_name": "StyleView",
            "bar_color": null,
            "description_width": ""
          }
        },
        "50d0965bc6d542c4a65967532c9a9e22": {
          "model_module": "@jupyter-widgets/controls",
          "model_module_version": "1.5.0",
          "model_name": "HTMLModel",
          "state": {
            "_dom_classes": [],
            "_model_module": "@jupyter-widgets/controls",
            "_model_module_version": "1.5.0",
            "_model_name": "HTMLModel",
            "_view_count": null,
            "_view_module": "@jupyter-widgets/controls",
            "_view_module_version": "1.5.0",
            "_view_name": "HTMLView",
            "description": "",
            "description_tooltip": null,
            "layout": "IPY_MODEL_a6c592bccef346008ac5542e399cc514",
            "placeholder": "​",
            "style": "IPY_MODEL_9a118d11a0234d9a9622e8051bfb2fc6",
            "value": " 38/50 [11:37:56&lt;4:15:02, 1275.18s/it]"
          }
        },
        "53350f92bdb147428215feed9338d1e5": {
          "model_module": "@jupyter-widgets/controls",
          "model_module_version": "1.5.0",
          "model_name": "FloatProgressModel",
          "state": {
            "_dom_classes": [],
            "_model_module": "@jupyter-widgets/controls",
            "_model_module_version": "1.5.0",
            "_model_name": "FloatProgressModel",
            "_view_count": null,
            "_view_module": "@jupyter-widgets/controls",
            "_view_module_version": "1.5.0",
            "_view_name": "ProgressView",
            "bar_style": "",
            "description": "",
            "description_tooltip": null,
            "layout": "IPY_MODEL_2b7e719be7f9438d90ff13253cb3b3fa",
            "max": 50,
            "min": 0,
            "orientation": "horizontal",
            "style": "IPY_MODEL_4e2db9e58aa74b868b3c8700e33d3397",
            "value": 38
          }
        },
        "5871381c2885496cbf7676d8c8e062e3": {
          "model_module": "@jupyter-widgets/base",
          "model_module_version": "1.2.0",
          "model_name": "LayoutModel",
          "state": {
            "_model_module": "@jupyter-widgets/base",
            "_model_module_version": "1.2.0",
            "_model_name": "LayoutModel",
            "_view_count": null,
            "_view_module": "@jupyter-widgets/base",
            "_view_module_version": "1.2.0",
            "_view_name": "LayoutView",
            "align_content": null,
            "align_items": null,
            "align_self": null,
            "border": null,
            "bottom": null,
            "display": null,
            "flex": null,
            "flex_flow": null,
            "grid_area": null,
            "grid_auto_columns": null,
            "grid_auto_flow": null,
            "grid_auto_rows": null,
            "grid_column": null,
            "grid_gap": null,
            "grid_row": null,
            "grid_template_areas": null,
            "grid_template_columns": null,
            "grid_template_rows": null,
            "height": null,
            "justify_content": null,
            "justify_items": null,
            "left": null,
            "margin": null,
            "max_height": null,
            "max_width": null,
            "min_height": null,
            "min_width": null,
            "object_fit": null,
            "object_position": null,
            "order": null,
            "overflow": null,
            "overflow_x": null,
            "overflow_y": null,
            "padding": null,
            "right": null,
            "top": null,
            "visibility": null,
            "width": null
          }
        },
        "5b9b66cd796843acbd39a27f3ccde2f9": {
          "model_module": "@jupyter-widgets/base",
          "model_module_version": "1.2.0",
          "model_name": "LayoutModel",
          "state": {
            "_model_module": "@jupyter-widgets/base",
            "_model_module_version": "1.2.0",
            "_model_name": "LayoutModel",
            "_view_count": null,
            "_view_module": "@jupyter-widgets/base",
            "_view_module_version": "1.2.0",
            "_view_name": "LayoutView",
            "align_content": null,
            "align_items": null,
            "align_self": null,
            "border": null,
            "bottom": null,
            "display": null,
            "flex": null,
            "flex_flow": null,
            "grid_area": null,
            "grid_auto_columns": null,
            "grid_auto_flow": null,
            "grid_auto_rows": null,
            "grid_column": null,
            "grid_gap": null,
            "grid_row": null,
            "grid_template_areas": null,
            "grid_template_columns": null,
            "grid_template_rows": null,
            "height": null,
            "justify_content": null,
            "justify_items": null,
            "left": null,
            "margin": null,
            "max_height": null,
            "max_width": null,
            "min_height": null,
            "min_width": null,
            "object_fit": null,
            "object_position": null,
            "order": null,
            "overflow": null,
            "overflow_x": null,
            "overflow_y": null,
            "padding": null,
            "right": null,
            "top": null,
            "visibility": null,
            "width": null
          }
        },
        "6b617d8ba3ba4bfa8f089eac00029d8c": {
          "model_module": "@jupyter-widgets/controls",
          "model_module_version": "1.5.0",
          "model_name": "HBoxModel",
          "state": {
            "_dom_classes": [],
            "_model_module": "@jupyter-widgets/controls",
            "_model_module_version": "1.5.0",
            "_model_name": "HBoxModel",
            "_view_count": null,
            "_view_module": "@jupyter-widgets/controls",
            "_view_module_version": "1.5.0",
            "_view_name": "HBoxView",
            "box_style": "",
            "children": [
              "IPY_MODEL_8a6c3622764148418dfa06390a51b9ea",
              "IPY_MODEL_53350f92bdb147428215feed9338d1e5",
              "IPY_MODEL_50d0965bc6d542c4a65967532c9a9e22"
            ],
            "layout": "IPY_MODEL_3bf9a89dcb004b8ba5af74f2a339bb99"
          }
        },
        "6d45cb1c7e3e46fc99064ded4fde7f0d": {
          "model_module": "@jupyter-widgets/controls",
          "model_module_version": "1.5.0",
          "model_name": "HTMLModel",
          "state": {
            "_dom_classes": [],
            "_model_module": "@jupyter-widgets/controls",
            "_model_module_version": "1.5.0",
            "_model_name": "HTMLModel",
            "_view_count": null,
            "_view_module": "@jupyter-widgets/controls",
            "_view_module_version": "1.5.0",
            "_view_name": "HTMLView",
            "description": "",
            "description_tooltip": null,
            "layout": "IPY_MODEL_5871381c2885496cbf7676d8c8e062e3",
            "placeholder": "​",
            "style": "IPY_MODEL_36f3a779b02f42b58f83944b07700c39",
            "value": "Best trial: 86. Best value: 0.929561: 100%"
          }
        },
        "70ba1479c53c4499b63107f68ab09b03": {
          "model_module": "@jupyter-widgets/controls",
          "model_module_version": "1.5.0",
          "model_name": "ProgressStyleModel",
          "state": {
            "_model_module": "@jupyter-widgets/controls",
            "_model_module_version": "1.5.0",
            "_model_name": "ProgressStyleModel",
            "_view_count": null,
            "_view_module": "@jupyter-widgets/base",
            "_view_module_version": "1.2.0",
            "_view_name": "StyleView",
            "bar_color": null,
            "description_width": ""
          }
        },
        "72322bb8d98c4bd5b0d25389dfc4c417": {
          "model_module": "@jupyter-widgets/base",
          "model_module_version": "1.2.0",
          "model_name": "LayoutModel",
          "state": {
            "_model_module": "@jupyter-widgets/base",
            "_model_module_version": "1.2.0",
            "_model_name": "LayoutModel",
            "_view_count": null,
            "_view_module": "@jupyter-widgets/base",
            "_view_module_version": "1.2.0",
            "_view_name": "LayoutView",
            "align_content": null,
            "align_items": null,
            "align_self": null,
            "border": null,
            "bottom": null,
            "display": null,
            "flex": null,
            "flex_flow": null,
            "grid_area": null,
            "grid_auto_columns": null,
            "grid_auto_flow": null,
            "grid_auto_rows": null,
            "grid_column": null,
            "grid_gap": null,
            "grid_row": null,
            "grid_template_areas": null,
            "grid_template_columns": null,
            "grid_template_rows": null,
            "height": null,
            "justify_content": null,
            "justify_items": null,
            "left": null,
            "margin": null,
            "max_height": null,
            "max_width": null,
            "min_height": null,
            "min_width": null,
            "object_fit": null,
            "object_position": null,
            "order": null,
            "overflow": null,
            "overflow_x": null,
            "overflow_y": null,
            "padding": null,
            "right": null,
            "top": null,
            "visibility": null,
            "width": null
          }
        },
        "73e10d8912f24bc09cc0c886ce546d9f": {
          "model_module": "@jupyter-widgets/controls",
          "model_module_version": "1.5.0",
          "model_name": "DescriptionStyleModel",
          "state": {
            "_model_module": "@jupyter-widgets/controls",
            "_model_module_version": "1.5.0",
            "_model_name": "DescriptionStyleModel",
            "_view_count": null,
            "_view_module": "@jupyter-widgets/base",
            "_view_module_version": "1.2.0",
            "_view_name": "StyleView",
            "description_width": ""
          }
        },
        "8a6c3622764148418dfa06390a51b9ea": {
          "model_module": "@jupyter-widgets/controls",
          "model_module_version": "1.5.0",
          "model_name": "HTMLModel",
          "state": {
            "_dom_classes": [],
            "_model_module": "@jupyter-widgets/controls",
            "_model_module_version": "1.5.0",
            "_model_name": "HTMLModel",
            "_view_count": null,
            "_view_module": "@jupyter-widgets/controls",
            "_view_module_version": "1.5.0",
            "_view_name": "HTMLView",
            "description": "",
            "description_tooltip": null,
            "layout": "IPY_MODEL_b4a285af81944de9b7ba5e1ee1b0cc3a",
            "placeholder": "​",
            "style": "IPY_MODEL_2f789e12a3314f13ba9b7d53f7ba7d00",
            "value": "Best trial: 24. Best value: 0.878541:  76%"
          }
        },
        "8b838d4a537a427ba6eb357a389ea589": {
          "model_module": "@jupyter-widgets/controls",
          "model_module_version": "1.5.0",
          "model_name": "FloatProgressModel",
          "state": {
            "_dom_classes": [],
            "_model_module": "@jupyter-widgets/controls",
            "_model_module_version": "1.5.0",
            "_model_name": "FloatProgressModel",
            "_view_count": null,
            "_view_module": "@jupyter-widgets/controls",
            "_view_module_version": "1.5.0",
            "_view_name": "ProgressView",
            "bar_style": "success",
            "description": "",
            "description_tooltip": null,
            "layout": "IPY_MODEL_911e97c81bd2485a9d4c61c08af6ca3e",
            "max": 26,
            "min": 0,
            "orientation": "horizontal",
            "style": "IPY_MODEL_f63a630a1b5f475e9c28fe3f25729bf2",
            "value": 26
          }
        },
        "911e97c81bd2485a9d4c61c08af6ca3e": {
          "model_module": "@jupyter-widgets/base",
          "model_module_version": "1.2.0",
          "model_name": "LayoutModel",
          "state": {
            "_model_module": "@jupyter-widgets/base",
            "_model_module_version": "1.2.0",
            "_model_name": "LayoutModel",
            "_view_count": null,
            "_view_module": "@jupyter-widgets/base",
            "_view_module_version": "1.2.0",
            "_view_name": "LayoutView",
            "align_content": null,
            "align_items": null,
            "align_self": null,
            "border": null,
            "bottom": null,
            "display": null,
            "flex": null,
            "flex_flow": null,
            "grid_area": null,
            "grid_auto_columns": null,
            "grid_auto_flow": null,
            "grid_auto_rows": null,
            "grid_column": null,
            "grid_gap": null,
            "grid_row": null,
            "grid_template_areas": null,
            "grid_template_columns": null,
            "grid_template_rows": null,
            "height": null,
            "justify_content": null,
            "justify_items": null,
            "left": null,
            "margin": null,
            "max_height": null,
            "max_width": null,
            "min_height": null,
            "min_width": null,
            "object_fit": null,
            "object_position": null,
            "order": null,
            "overflow": null,
            "overflow_x": null,
            "overflow_y": null,
            "padding": null,
            "right": null,
            "top": null,
            "visibility": null,
            "width": null
          }
        },
        "97b2c1101a3b4203bfba3a93f8097b13": {
          "model_module": "@jupyter-widgets/controls",
          "model_module_version": "1.5.0",
          "model_name": "FloatProgressModel",
          "state": {
            "_dom_classes": [],
            "_model_module": "@jupyter-widgets/controls",
            "_model_module_version": "1.5.0",
            "_model_name": "FloatProgressModel",
            "_view_count": null,
            "_view_module": "@jupyter-widgets/controls",
            "_view_module_version": "1.5.0",
            "_view_name": "ProgressView",
            "bar_style": "",
            "description": "",
            "description_tooltip": null,
            "layout": "IPY_MODEL_35fa29b2dded470f8c655114408e682b",
            "max": 100,
            "min": 0,
            "orientation": "horizontal",
            "style": "IPY_MODEL_c27671e1fd284291a30b42ccdd068687",
            "value": 37
          }
        },
        "9a118d11a0234d9a9622e8051bfb2fc6": {
          "model_module": "@jupyter-widgets/controls",
          "model_module_version": "1.5.0",
          "model_name": "DescriptionStyleModel",
          "state": {
            "_model_module": "@jupyter-widgets/controls",
            "_model_module_version": "1.5.0",
            "_model_name": "DescriptionStyleModel",
            "_view_count": null,
            "_view_module": "@jupyter-widgets/base",
            "_view_module_version": "1.2.0",
            "_view_name": "StyleView",
            "description_width": ""
          }
        },
        "a194ebae7bcf430b9c201101f24957c7": {
          "model_module": "@jupyter-widgets/controls",
          "model_module_version": "1.5.0",
          "model_name": "DescriptionStyleModel",
          "state": {
            "_model_module": "@jupyter-widgets/controls",
            "_model_module_version": "1.5.0",
            "_model_name": "DescriptionStyleModel",
            "_view_count": null,
            "_view_module": "@jupyter-widgets/base",
            "_view_module_version": "1.2.0",
            "_view_name": "StyleView",
            "description_width": ""
          }
        },
        "a6c592bccef346008ac5542e399cc514": {
          "model_module": "@jupyter-widgets/base",
          "model_module_version": "1.2.0",
          "model_name": "LayoutModel",
          "state": {
            "_model_module": "@jupyter-widgets/base",
            "_model_module_version": "1.2.0",
            "_model_name": "LayoutModel",
            "_view_count": null,
            "_view_module": "@jupyter-widgets/base",
            "_view_module_version": "1.2.0",
            "_view_name": "LayoutView",
            "align_content": null,
            "align_items": null,
            "align_self": null,
            "border": null,
            "bottom": null,
            "display": null,
            "flex": null,
            "flex_flow": null,
            "grid_area": null,
            "grid_auto_columns": null,
            "grid_auto_flow": null,
            "grid_auto_rows": null,
            "grid_column": null,
            "grid_gap": null,
            "grid_row": null,
            "grid_template_areas": null,
            "grid_template_columns": null,
            "grid_template_rows": null,
            "height": null,
            "justify_content": null,
            "justify_items": null,
            "left": null,
            "margin": null,
            "max_height": null,
            "max_width": null,
            "min_height": null,
            "min_width": null,
            "object_fit": null,
            "object_position": null,
            "order": null,
            "overflow": null,
            "overflow_x": null,
            "overflow_y": null,
            "padding": null,
            "right": null,
            "top": null,
            "visibility": null,
            "width": null
          }
        },
        "a9a02cac81f54131b6138e6fcf3381f5": {
          "model_module": "@jupyter-widgets/controls",
          "model_module_version": "1.5.0",
          "model_name": "DescriptionStyleModel",
          "state": {
            "_model_module": "@jupyter-widgets/controls",
            "_model_module_version": "1.5.0",
            "_model_name": "DescriptionStyleModel",
            "_view_count": null,
            "_view_module": "@jupyter-widgets/base",
            "_view_module_version": "1.2.0",
            "_view_name": "StyleView",
            "description_width": ""
          }
        },
        "b4a285af81944de9b7ba5e1ee1b0cc3a": {
          "model_module": "@jupyter-widgets/base",
          "model_module_version": "1.2.0",
          "model_name": "LayoutModel",
          "state": {
            "_model_module": "@jupyter-widgets/base",
            "_model_module_version": "1.2.0",
            "_model_name": "LayoutModel",
            "_view_count": null,
            "_view_module": "@jupyter-widgets/base",
            "_view_module_version": "1.2.0",
            "_view_name": "LayoutView",
            "align_content": null,
            "align_items": null,
            "align_self": null,
            "border": null,
            "bottom": null,
            "display": null,
            "flex": null,
            "flex_flow": null,
            "grid_area": null,
            "grid_auto_columns": null,
            "grid_auto_flow": null,
            "grid_auto_rows": null,
            "grid_column": null,
            "grid_gap": null,
            "grid_row": null,
            "grid_template_areas": null,
            "grid_template_columns": null,
            "grid_template_rows": null,
            "height": null,
            "justify_content": null,
            "justify_items": null,
            "left": null,
            "margin": null,
            "max_height": null,
            "max_width": null,
            "min_height": null,
            "min_width": null,
            "object_fit": null,
            "object_position": null,
            "order": null,
            "overflow": null,
            "overflow_x": null,
            "overflow_y": null,
            "padding": null,
            "right": null,
            "top": null,
            "visibility": null,
            "width": null
          }
        },
        "b4cab2bdab1744e8af4cc0ce53f0b29f": {
          "model_module": "@jupyter-widgets/base",
          "model_module_version": "1.2.0",
          "model_name": "LayoutModel",
          "state": {
            "_model_module": "@jupyter-widgets/base",
            "_model_module_version": "1.2.0",
            "_model_name": "LayoutModel",
            "_view_count": null,
            "_view_module": "@jupyter-widgets/base",
            "_view_module_version": "1.2.0",
            "_view_name": "LayoutView",
            "align_content": null,
            "align_items": null,
            "align_self": null,
            "border": null,
            "bottom": null,
            "display": null,
            "flex": null,
            "flex_flow": null,
            "grid_area": null,
            "grid_auto_columns": null,
            "grid_auto_flow": null,
            "grid_auto_rows": null,
            "grid_column": null,
            "grid_gap": null,
            "grid_row": null,
            "grid_template_areas": null,
            "grid_template_columns": null,
            "grid_template_rows": null,
            "height": null,
            "justify_content": null,
            "justify_items": null,
            "left": null,
            "margin": null,
            "max_height": null,
            "max_width": null,
            "min_height": null,
            "min_width": null,
            "object_fit": null,
            "object_position": null,
            "order": null,
            "overflow": null,
            "overflow_x": null,
            "overflow_y": null,
            "padding": null,
            "right": null,
            "top": null,
            "visibility": null,
            "width": null
          }
        },
        "b71e25c9e362494899651cd423bd525c": {
          "model_module": "@jupyter-widgets/base",
          "model_module_version": "1.2.0",
          "model_name": "LayoutModel",
          "state": {
            "_model_module": "@jupyter-widgets/base",
            "_model_module_version": "1.2.0",
            "_model_name": "LayoutModel",
            "_view_count": null,
            "_view_module": "@jupyter-widgets/base",
            "_view_module_version": "1.2.0",
            "_view_name": "LayoutView",
            "align_content": null,
            "align_items": null,
            "align_self": null,
            "border": null,
            "bottom": null,
            "display": null,
            "flex": null,
            "flex_flow": null,
            "grid_area": null,
            "grid_auto_columns": null,
            "grid_auto_flow": null,
            "grid_auto_rows": null,
            "grid_column": null,
            "grid_gap": null,
            "grid_row": null,
            "grid_template_areas": null,
            "grid_template_columns": null,
            "grid_template_rows": null,
            "height": null,
            "justify_content": null,
            "justify_items": null,
            "left": null,
            "margin": null,
            "max_height": null,
            "max_width": null,
            "min_height": null,
            "min_width": null,
            "object_fit": null,
            "object_position": null,
            "order": null,
            "overflow": null,
            "overflow_x": null,
            "overflow_y": null,
            "padding": null,
            "right": null,
            "top": null,
            "visibility": null,
            "width": null
          }
        },
        "b80194d6ba774cf5ac1d8e48905e2478": {
          "model_module": "@jupyter-widgets/controls",
          "model_module_version": "1.5.0",
          "model_name": "HBoxModel",
          "state": {
            "_dom_classes": [],
            "_model_module": "@jupyter-widgets/controls",
            "_model_module_version": "1.5.0",
            "_model_name": "HBoxModel",
            "_view_count": null,
            "_view_module": "@jupyter-widgets/controls",
            "_view_module_version": "1.5.0",
            "_view_name": "HBoxView",
            "box_style": "",
            "children": [
              "IPY_MODEL_45a3e40aff1a4c8d8c7b07a1a25506d2",
              "IPY_MODEL_d17f22654941429abbfdc5e8caddb676",
              "IPY_MODEL_316625c168694671a6e88ca64134bec4"
            ],
            "layout": "IPY_MODEL_72322bb8d98c4bd5b0d25389dfc4c417"
          }
        },
        "c27671e1fd284291a30b42ccdd068687": {
          "model_module": "@jupyter-widgets/controls",
          "model_module_version": "1.5.0",
          "model_name": "ProgressStyleModel",
          "state": {
            "_model_module": "@jupyter-widgets/controls",
            "_model_module_version": "1.5.0",
            "_model_name": "ProgressStyleModel",
            "_view_count": null,
            "_view_module": "@jupyter-widgets/base",
            "_view_module_version": "1.2.0",
            "_view_name": "StyleView",
            "bar_color": null,
            "description_width": ""
          }
        },
        "c35936c5a8b5497f90a65ef885d7ad67": {
          "model_module": "@jupyter-widgets/controls",
          "model_module_version": "1.5.0",
          "model_name": "HBoxModel",
          "state": {
            "_dom_classes": [],
            "_model_module": "@jupyter-widgets/controls",
            "_model_module_version": "1.5.0",
            "_model_name": "HBoxModel",
            "_view_count": null,
            "_view_module": "@jupyter-widgets/controls",
            "_view_module_version": "1.5.0",
            "_view_name": "HBoxView",
            "box_style": "",
            "children": [
              "IPY_MODEL_4dcf530e6a9e404f9d226247c8dfec82",
              "IPY_MODEL_97b2c1101a3b4203bfba3a93f8097b13",
              "IPY_MODEL_d1e2d346043a46a889b2d0ce1674787c"
            ],
            "layout": "IPY_MODEL_1423ab8f0b0e40e09850a4a1e35242a3"
          }
        },
        "d17f22654941429abbfdc5e8caddb676": {
          "model_module": "@jupyter-widgets/controls",
          "model_module_version": "1.5.0",
          "model_name": "FloatProgressModel",
          "state": {
            "_dom_classes": [],
            "_model_module": "@jupyter-widgets/controls",
            "_model_module_version": "1.5.0",
            "_model_name": "FloatProgressModel",
            "_view_count": null,
            "_view_module": "@jupyter-widgets/controls",
            "_view_module_version": "1.5.0",
            "_view_name": "ProgressView",
            "bar_style": "success",
            "description": "",
            "description_tooltip": null,
            "layout": "IPY_MODEL_4013fd57228849c187754d8e94103559",
            "max": 12,
            "min": 0,
            "orientation": "horizontal",
            "style": "IPY_MODEL_70ba1479c53c4499b63107f68ab09b03",
            "value": 12
          }
        },
        "d1e2d346043a46a889b2d0ce1674787c": {
          "model_module": "@jupyter-widgets/controls",
          "model_module_version": "1.5.0",
          "model_name": "HTMLModel",
          "state": {
            "_dom_classes": [],
            "_model_module": "@jupyter-widgets/controls",
            "_model_module_version": "1.5.0",
            "_model_name": "HTMLModel",
            "_view_count": null,
            "_view_module": "@jupyter-widgets/controls",
            "_view_module_version": "1.5.0",
            "_view_name": "HTMLView",
            "description": "",
            "description_tooltip": null,
            "layout": "IPY_MODEL_5b9b66cd796843acbd39a27f3ccde2f9",
            "placeholder": "​",
            "style": "IPY_MODEL_a9a02cac81f54131b6138e6fcf3381f5",
            "value": " 37/100 [11:38:46&lt;27:33:51, 1575.11s/it]"
          }
        },
        "efbf860d1bac4eeb9ac6a0626611266d": {
          "model_module": "@jupyter-widgets/controls",
          "model_module_version": "1.5.0",
          "model_name": "HBoxModel",
          "state": {
            "_dom_classes": [],
            "_model_module": "@jupyter-widgets/controls",
            "_model_module_version": "1.5.0",
            "_model_name": "HBoxModel",
            "_view_count": null,
            "_view_module": "@jupyter-widgets/controls",
            "_view_module_version": "1.5.0",
            "_view_name": "HBoxView",
            "box_style": "",
            "children": [
              "IPY_MODEL_6d45cb1c7e3e46fc99064ded4fde7f0d",
              "IPY_MODEL_8b838d4a537a427ba6eb357a389ea589",
              "IPY_MODEL_f26ae0b84d1b41a7ac3ad7ce72f59577"
            ],
            "layout": "IPY_MODEL_387789e9e84f45b6931965b8c925f7ef"
          }
        },
        "f26ae0b84d1b41a7ac3ad7ce72f59577": {
          "model_module": "@jupyter-widgets/controls",
          "model_module_version": "1.5.0",
          "model_name": "HTMLModel",
          "state": {
            "_dom_classes": [],
            "_model_module": "@jupyter-widgets/controls",
            "_model_module_version": "1.5.0",
            "_model_name": "HTMLModel",
            "_view_count": null,
            "_view_module": "@jupyter-widgets/controls",
            "_view_module_version": "1.5.0",
            "_view_name": "HTMLView",
            "description": "",
            "description_tooltip": null,
            "layout": "IPY_MODEL_b71e25c9e362494899651cd423bd525c",
            "placeholder": "​",
            "style": "IPY_MODEL_0365d1205a714b25b94499f392575d67",
            "value": " 26/26 [11:12:46&lt;00:00, 1854.41s/it]"
          }
        },
        "f63a630a1b5f475e9c28fe3f25729bf2": {
          "model_module": "@jupyter-widgets/controls",
          "model_module_version": "1.5.0",
          "model_name": "ProgressStyleModel",
          "state": {
            "_model_module": "@jupyter-widgets/controls",
            "_model_module_version": "1.5.0",
            "_model_name": "ProgressStyleModel",
            "_view_count": null,
            "_view_module": "@jupyter-widgets/base",
            "_view_module_version": "1.2.0",
            "_view_name": "StyleView",
            "bar_color": null,
            "description_width": ""
          }
        }
      }
    }
  },
  "nbformat": 4,
  "nbformat_minor": 0
}
